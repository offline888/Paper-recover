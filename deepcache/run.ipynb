{
 "cells": [
  {
   "cell_type": "markdown",
   "metadata": {},
   "source": [
    "# Uniform"
   ]
  },
  {
   "cell_type": "code",
   "execution_count": 1,
   "metadata": {},
   "outputs": [
    {
     "name": "stdout",
     "output_type": "stream",
     "text": [
      "Requirement already satisfied: DeepCache in e:\\conda_data\\envs\\heavy_daily\\lib\\site-packages (0.1.1)\n",
      "Requirement already satisfied: torch in e:\\conda_data\\envs\\heavy_daily\\lib\\site-packages (from DeepCache) (2.5.1+cu124)\n",
      "Requirement already satisfied: diffusers in e:\\conda_data\\envs\\heavy_daily\\lib\\site-packages (from DeepCache) (0.32.2)\n",
      "Requirement already satisfied: transformers in e:\\conda_data\\envs\\heavy_daily\\lib\\site-packages (from DeepCache) (4.46.3)\n",
      "Requirement already satisfied: importlib-metadata in e:\\conda_data\\envs\\heavy_daily\\lib\\site-packages (from diffusers->DeepCache) (8.5.0)\n",
      "Requirement already satisfied: filelock in e:\\conda_data\\envs\\heavy_daily\\lib\\site-packages (from diffusers->DeepCache) (3.16.1)\n",
      "Requirement already satisfied: huggingface-hub>=0.23.2 in e:\\conda_data\\envs\\heavy_daily\\lib\\site-packages (from diffusers->DeepCache) (0.26.3)\n",
      "Requirement already satisfied: numpy in e:\\conda_data\\envs\\heavy_daily\\lib\\site-packages (from diffusers->DeepCache) (1.26.4)\n",
      "Requirement already satisfied: regex!=2019.12.17 in e:\\conda_data\\envs\\heavy_daily\\lib\\site-packages (from diffusers->DeepCache) (2024.11.6)\n",
      "Requirement already satisfied: requests in e:\\conda_data\\envs\\heavy_daily\\lib\\site-packages (from diffusers->DeepCache) (2.32.3)\n",
      "Requirement already satisfied: safetensors>=0.3.1 in e:\\conda_data\\envs\\heavy_daily\\lib\\site-packages (from diffusers->DeepCache) (0.4.5)\n",
      "Requirement already satisfied: Pillow in e:\\conda_data\\envs\\heavy_daily\\lib\\site-packages (from diffusers->DeepCache) (11.0.0)\n",
      "Requirement already satisfied: typing-extensions>=4.8.0 in e:\\conda_data\\envs\\heavy_daily\\lib\\site-packages (from torch->DeepCache) (4.12.2)\n",
      "Requirement already satisfied: networkx in e:\\conda_data\\envs\\heavy_daily\\lib\\site-packages (from torch->DeepCache) (3.4.2)\n",
      "Requirement already satisfied: jinja2 in e:\\conda_data\\envs\\heavy_daily\\lib\\site-packages (from torch->DeepCache) (3.1.4)\n",
      "Requirement already satisfied: fsspec in e:\\conda_data\\envs\\heavy_daily\\lib\\site-packages (from torch->DeepCache) (2024.9.0)\n",
      "Requirement already satisfied: sympy==1.13.1 in e:\\conda_data\\envs\\heavy_daily\\lib\\site-packages (from torch->DeepCache) (1.13.1)\n",
      "Requirement already satisfied: mpmath<1.4,>=1.1.0 in e:\\conda_data\\envs\\heavy_daily\\lib\\site-packages (from sympy==1.13.1->torch->DeepCache) (1.3.0)\n",
      "Requirement already satisfied: packaging>=20.0 in e:\\conda_data\\envs\\heavy_daily\\lib\\site-packages (from transformers->DeepCache) (24.2)\n",
      "Requirement already satisfied: pyyaml>=5.1 in e:\\conda_data\\envs\\heavy_daily\\lib\\site-packages (from transformers->DeepCache) (6.0.2)\n",
      "Requirement already satisfied: tokenizers<0.21,>=0.20 in e:\\conda_data\\envs\\heavy_daily\\lib\\site-packages (from transformers->DeepCache) (0.20.3)\n",
      "Requirement already satisfied: tqdm>=4.27 in e:\\conda_data\\envs\\heavy_daily\\lib\\site-packages (from transformers->DeepCache) (4.67.1)\n",
      "Requirement already satisfied: colorama in e:\\conda_data\\envs\\heavy_daily\\lib\\site-packages (from tqdm>=4.27->transformers->DeepCache) (0.4.6)\n",
      "Requirement already satisfied: zipp>=3.20 in e:\\conda_data\\envs\\heavy_daily\\lib\\site-packages (from importlib-metadata->diffusers->DeepCache) (3.21.0)\n",
      "Requirement already satisfied: MarkupSafe>=2.0 in e:\\conda_data\\envs\\heavy_daily\\lib\\site-packages (from jinja2->torch->DeepCache) (3.0.2)\n",
      "Requirement already satisfied: charset-normalizer<4,>=2 in e:\\conda_data\\envs\\heavy_daily\\lib\\site-packages (from requests->diffusers->DeepCache) (2.1.1)\n",
      "Requirement already satisfied: idna<4,>=2.5 in e:\\conda_data\\envs\\heavy_daily\\lib\\site-packages (from requests->diffusers->DeepCache) (3.10)\n",
      "Requirement already satisfied: urllib3<3,>=1.21.1 in e:\\conda_data\\envs\\heavy_daily\\lib\\site-packages (from requests->diffusers->DeepCache) (1.26.20)\n",
      "Requirement already satisfied: certifi>=2017.4.17 in e:\\conda_data\\envs\\heavy_daily\\lib\\site-packages (from requests->diffusers->DeepCache) (2024.8.30)\n"
     ]
    }
   ],
   "source": [
    "!pip install DeepCache"
   ]
  },
  {
   "cell_type": "code",
   "execution_count": 1,
   "metadata": {},
   "outputs": [],
   "source": [
    "prompt='A man is climbing a mountain'"
   ]
  },
  {
   "cell_type": "code",
   "execution_count": 2,
   "metadata": {},
   "outputs": [
    {
     "name": "stderr",
     "output_type": "stream",
     "text": [
      "A matching Triton is not available, some optimizations will not be enabled\n",
      "Traceback (most recent call last):\n",
      "  File \"e:\\conda_data\\envs\\heavy_daily\\lib\\site-packages\\xformers\\__init__.py\", line 57, in _is_triton_available\n",
      "    import triton  # noqa\n",
      "ModuleNotFoundError: No module named 'triton'\n"
     ]
    },
    {
     "data": {
      "application/vnd.jupyter.widget-view+json": {
       "model_id": "30b91f1d22524a9a850de736d629515b",
       "version_major": 2,
       "version_minor": 0
      },
      "text/plain": [
       "Loading pipeline components...:   0%|          | 0/7 [00:00<?, ?it/s]"
      ]
     },
     "metadata": {},
     "output_type": "display_data"
    }
   ],
   "source": [
    "import torch\n",
    "\n",
    "# Loading the original pipeline\n",
    "from diffusers import StableDiffusionXLPipeline\n",
    "pipe = StableDiffusionXLPipeline.from_pretrained('g:code/model/stable-diffusion-xl-base-1.0', torch_dtype=torch.float16,variant='fp16').to(\"cuda:0\")\n"
   ]
  },
  {
   "cell_type": "code",
   "execution_count": 3,
   "metadata": {},
   "outputs": [],
   "source": [
    "# 使用xformers进行内存优化\n",
    "pipe.enable_xformers_memory_efficient_attention()\n",
    "# 使用sliced attention减少内存占用\n",
    "pipe.enable_attention_slicing(slice_size=1)\n",
    "# 启用模型CPU卸载以节省GPU内存\n",
    "pipe.enable_model_cpu_offload()\n",
    "# 使用flash attention加速计算\n",
    "pipe.enable_vae_slicing()  # 启用VAE切片以减少内存使用\n"
   ]
  },
  {
   "cell_type": "code",
   "execution_count": 5,
   "metadata": {},
   "outputs": [],
   "source": [
    "pipe.safety_checker = None  # 禁用安全检查器以节省内存"
   ]
  },
  {
   "cell_type": "code",
   "execution_count": 6,
   "metadata": {},
   "outputs": [
    {
     "data": {
      "application/vnd.jupyter.widget-view+json": {
       "model_id": "93f63fc1164c4e73b7774e0645f910ec",
       "version_major": 2,
       "version_minor": 0
      },
      "text/plain": [
       "  0%|          | 0/50 [00:00<?, ?it/s]"
      ]
     },
     "metadata": {},
     "output_type": "display_data"
    }
   ],
   "source": [
    "# Import the DeepCacheSDHelper\n",
    "from DeepCache import DeepCacheSDHelper\n",
    "helper = DeepCacheSDHelper(pipe=pipe)\n",
    "helper.set_params(\n",
    "    cache_interval=3,\n",
    "    cache_branch_id=0,\n",
    ")\n",
    "helper.enable()\n",
    "\n",
    "# Generate Image\n",
    "deepcache_image = pipe(\n",
    "        prompt,\n",
    "        output_type='pt'\n",
    ").images[0]\n",
    "helper.disable()"
   ]
  },
  {
   "cell_type": "code",
   "execution_count": 13,
   "metadata": {},
   "outputs": [],
   "source": [
    "torch.cuda.empty_cache()"
   ]
  },
  {
   "cell_type": "code",
   "execution_count": 15,
   "metadata": {},
   "outputs": [
    {
     "name": "stdout",
     "output_type": "stream",
     "text": [
      "测试DeepCache生成时间...\n"
     ]
    },
    {
     "name": "stderr",
     "output_type": "stream",
     "text": [
      "  0%|          | 0/5 [00:00<?, ?it/s]"
     ]
    },
    {
     "data": {
      "application/vnd.jupyter.widget-view+json": {
       "model_id": "c7c6826b554e4551b2a1e359390521b7",
       "version_major": 2,
       "version_minor": 0
      },
      "text/plain": [
       "  0%|          | 0/50 [00:00<?, ?it/s]"
      ]
     },
     "metadata": {},
     "output_type": "display_data"
    },
    {
     "name": "stderr",
     "output_type": "stream",
     "text": [
      " 20%|██        | 1/5 [00:22<01:29, 22.27s/it]"
     ]
    },
    {
     "data": {
      "application/vnd.jupyter.widget-view+json": {
       "model_id": "b46a6238c3b44c798952cc8f8e7deb6c",
       "version_major": 2,
       "version_minor": 0
      },
      "text/plain": [
       "  0%|          | 0/50 [00:00<?, ?it/s]"
      ]
     },
     "metadata": {},
     "output_type": "display_data"
    },
    {
     "name": "stderr",
     "output_type": "stream",
     "text": [
      " 40%|████      | 2/5 [00:30<00:41, 13.76s/it]"
     ]
    },
    {
     "data": {
      "application/vnd.jupyter.widget-view+json": {
       "model_id": "ae8492a32e024b19b7bb3fb0994f5ebd",
       "version_major": 2,
       "version_minor": 0
      },
      "text/plain": [
       "  0%|          | 0/50 [00:00<?, ?it/s]"
      ]
     },
     "metadata": {},
     "output_type": "display_data"
    },
    {
     "name": "stderr",
     "output_type": "stream",
     "text": [
      " 60%|██████    | 3/5 [00:38<00:22, 11.10s/it]"
     ]
    },
    {
     "data": {
      "application/vnd.jupyter.widget-view+json": {
       "model_id": "29f442ce52344c788e4555634ff01785",
       "version_major": 2,
       "version_minor": 0
      },
      "text/plain": [
       "  0%|          | 0/50 [00:00<?, ?it/s]"
      ]
     },
     "metadata": {},
     "output_type": "display_data"
    },
    {
     "name": "stderr",
     "output_type": "stream",
     "text": [
      " 80%|████████  | 4/5 [00:45<00:09,  9.71s/it]"
     ]
    },
    {
     "data": {
      "application/vnd.jupyter.widget-view+json": {
       "model_id": "e1546c3d81c74159b17ed2843cea5534",
       "version_major": 2,
       "version_minor": 0
      },
      "text/plain": [
       "  0%|          | 0/50 [00:00<?, ?it/s]"
      ]
     },
     "metadata": {},
     "output_type": "display_data"
    },
    {
     "name": "stderr",
     "output_type": "stream",
     "text": [
      "100%|██████████| 5/5 [00:53<00:00, 10.62s/it]"
     ]
    },
    {
     "name": "stdout",
     "output_type": "stream",
     "text": [
      "DeepCache平均生成时间: 10.6160秒\n"
     ]
    },
    {
     "name": "stderr",
     "output_type": "stream",
     "text": [
      "\n"
     ]
    }
   ],
   "source": [
    "# 对比生成15张图片使用deepcache和使用原始pipeline的生成时间\n",
    "import time\n",
    "from tqdm import tqdm\n",
    "# 定义测试次数\n",
    "num_images = 5\n",
    "'''# 测试原始pipeline的生成时间\n",
    "original_times = []\n",
    "print(\"测试原始pipeline生成时间...\")\n",
    "for _ in tqdm(range(num_images)):\n",
    "    start_time = time.time()\n",
    "    _ = pipe(prompt, output_type='pt').images[0]\n",
    "    end_time = time.time()\n",
    "    torch.cuda.empty_cache()\n",
    "    original_times.append(end_time - start_time)'''\n",
    "# 测试DeepCache的生成时间\n",
    "helper.enable()\n",
    "deepcache_times = []\n",
    "print(\"测试DeepCache生成时间...\")\n",
    "for _ in tqdm(range(num_images)):\n",
    "    start_time = time.time()\n",
    "    _ = pipe(prompt, output_type='pt').images[0]\n",
    "    end_time = time.time()\n",
    "    torch.cuda.empty_cache()\n",
    "    deepcache_times.append(end_time - start_time)\n",
    "helper.disable()\n",
    "# 计算平均时间\n",
    "#avg_original = sum(original_times) / len(original_times)\n",
    "avg_deepcache = sum(deepcache_times) / len(deepcache_times)\n",
    "# 输出结果\n",
    "#print(f\"原始pipeline平均生成时间: {avg_original:.4f}秒\")\n",
    "print(f\"DeepCache平均生成时间: {avg_deepcache:.4f}秒\")\n",
    "#print(f\"加速比: {avg_original/avg_deepcache:.2f}x\")"
   ]
  },
  {
   "cell_type": "markdown",
   "metadata": {},
   "source": [
    "# Non-Uniform\n",
    "代码只对视频生成做了Non-uniform 实现"
   ]
  },
  {
   "cell_type": "code",
   "execution_count": null,
   "metadata": {},
   "outputs": [],
   "source": []
  }
 ],
 "metadata": {
  "kernelspec": {
   "display_name": "heavy_daily",
   "language": "python",
   "name": "python3"
  },
  "language_info": {
   "codemirror_mode": {
    "name": "ipython",
    "version": 3
   },
   "file_extension": ".py",
   "mimetype": "text/x-python",
   "name": "python",
   "nbconvert_exporter": "python",
   "pygments_lexer": "ipython3",
   "version": "3.10.15"
  }
 },
 "nbformat": 4,
 "nbformat_minor": 2
}
