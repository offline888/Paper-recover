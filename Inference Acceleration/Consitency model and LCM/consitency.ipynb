{
 "cells": [
  {
   "cell_type": "markdown",
   "metadata": {},
   "source": [
    "# ConsitencyModel Series"
   ]
  },
  {
   "cell_type": "markdown",
   "metadata": {},
   "source": [
    "参考博客：https://wrong.wang/blog/20231111-consistency-is-all-you-need/"
   ]
  },
  {
   "cell_type": "markdown",
   "metadata": {},
   "source": [
    "Consitency Model本质就是将**任何时间步的点映射到轨迹的起点**。CM 的一个关键的性质 self-consistency性：相同轨迹上的点映射到相同的初始点。"
   ]
  },
  {
   "cell_type": "code",
   "execution_count": 1,
   "metadata": {},
   "outputs": [
    {
     "name": "stderr",
     "output_type": "stream",
     "text": [
      "A matching Triton is not available, some optimizations will not be enabled\n",
      "Traceback (most recent call last):\n",
      "  File \"e:\\conda_data\\envs\\heavy_daily\\lib\\site-packages\\xformers\\__init__.py\", line 57, in _is_triton_available\n",
      "    import triton  # noqa\n",
      "ModuleNotFoundError: No module named 'triton'\n"
     ]
    },
    {
     "data": {
      "application/vnd.jupyter.widget-view+json": {
       "model_id": "ca81fbd2a34d4aa18322fc558c1ad7d5",
       "version_major": 2,
       "version_minor": 0
      },
      "text/plain": [
       "Loading pipeline components...:   0%|          | 0/2 [00:00<?, ?it/s]"
      ]
     },
     "metadata": {},
     "output_type": "display_data"
    },
    {
     "data": {
      "application/vnd.jupyter.widget-view+json": {
       "model_id": "f97fbf1aad8f441ea1fee278628ade8a",
       "version_major": 2,
       "version_minor": 0
      },
      "text/plain": [
       "  0%|          | 0/1 [00:00<?, ?it/s]"
      ]
     },
     "metadata": {},
     "output_type": "display_data"
    },
    {
     "data": {
      "application/vnd.jupyter.widget-view+json": {
       "model_id": "caa4f23c0cb3459cbf42d012814fd922",
       "version_major": 2,
       "version_minor": 0
      },
      "text/plain": [
       "  0%|          | 0/1 [00:00<?, ?it/s]"
      ]
     },
     "metadata": {},
     "output_type": "display_data"
    },
    {
     "data": {
      "application/vnd.jupyter.widget-view+json": {
       "model_id": "f298defba1b54fd4aba2c18bfe1fbd07",
       "version_major": 2,
       "version_minor": 0
      },
      "text/plain": [
       "  0%|          | 0/2 [00:00<?, ?it/s]"
      ]
     },
     "metadata": {},
     "output_type": "display_data"
    }
   ],
   "source": [
    "import torch\n",
    "\n",
    "from diffusers import ConsistencyModelPipeline\n",
    "\n",
    "device = \"cuda\"\n",
    "# Load the cd_imagenet64_l2 checkpoint.\n",
    "model_id_or_path = r\"G:\\code\\model\\diffusers-cd_imagenet64_l2\"\n",
    "pipe = ConsistencyModelPipeline.from_pretrained(model_id_or_path, torch_dtype=torch.float16)\n",
    "pipe.to(device)\n"
   ]
  },
  {
   "cell_type": "code",
   "execution_count": 2,
   "metadata": {},
   "outputs": [
    {
     "data": {
      "application/vnd.jupyter.widget-view+json": {
       "model_id": "a1ae70f9c5ef4ea5b37f4d1bda26bd9e",
       "version_major": 2,
       "version_minor": 0
      },
      "text/plain": [
       "  0%|          | 0/1 [00:00<?, ?it/s]"
      ]
     },
     "metadata": {},
     "output_type": "display_data"
    },
    {
     "data": {
      "application/vnd.jupyter.widget-view+json": {
       "model_id": "099e3ba97bc3443697751888913853b2",
       "version_major": 2,
       "version_minor": 0
      },
      "text/plain": [
       "  0%|          | 0/1 [00:00<?, ?it/s]"
      ]
     },
     "metadata": {},
     "output_type": "display_data"
    },
    {
     "data": {
      "application/vnd.jupyter.widget-view+json": {
       "model_id": "73410c62a8444d9a803d96a724e2c439",
       "version_major": 2,
       "version_minor": 0
      },
      "text/plain": [
       "  0%|          | 0/2 [00:00<?, ?it/s]"
      ]
     },
     "metadata": {},
     "output_type": "display_data"
    }
   ],
   "source": [
    "\n",
    "# Onestep Sampling\n",
    "image = pipe(num_inference_steps=1).images[0]\n",
    "image.save(\"cd_imagenet64_l2_onestep_sample.png\")\n",
    "\n",
    "# Onestep sampling, class-conditional image generation\n",
    "# ImageNet-64 class label 145 corresponds to king penguins\n",
    "image = pipe(num_inference_steps=1, class_labels=145).images[0]\n",
    "image.save(\"cd_imagenet64_l2_onestep_sample_penguin.png\")\n",
    "\n",
    "# Multistep sampling, class-conditional image generation\n",
    "# Timesteps can be explicitly specified; the particular timesteps below are from the original Github repo:\n",
    "# https://github.com/openai/consistency_models/blob/main/scripts/launch.sh#L77\n",
    "image = pipe(num_inference_steps=None, timesteps=[22, 0], class_labels=145).images[0]\n",
    "image.save(\"cd_imagenet64_l2_multistep_sample_penguin.png\")\n"
   ]
  }
 ],
 "metadata": {
  "kernelspec": {
   "display_name": "heavy_daily",
   "language": "python",
   "name": "python3"
  },
  "language_info": {
   "codemirror_mode": {
    "name": "ipython",
    "version": 3
   },
   "file_extension": ".py",
   "mimetype": "text/x-python",
   "name": "python",
   "nbconvert_exporter": "python",
   "pygments_lexer": "ipython3",
   "version": "3.10.15"
  }
 },
 "nbformat": 4,
 "nbformat_minor": 2
}
