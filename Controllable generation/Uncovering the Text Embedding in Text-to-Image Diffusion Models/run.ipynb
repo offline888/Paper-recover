{
 "cells": [
  {
   "cell_type": "markdown",
   "id": "5f055ee0",
   "metadata": {},
   "source": [
    "# Uncovering the Text Embedding in Text-to-Image Diffusion Models\n",
    "**Text embedding space的P2P**"
   ]
  },
  {
   "cell_type": "markdown",
   "id": "99d03b0b",
   "metadata": {},
   "source": [
    "## insight:\n",
    "- 1\n",
    "    - (1) the use of a causal mask ensures that information in a specific word\n",
    " embedding is solely correlated with the word embedding\n",
    " preceding it. \n",
    "    - (2) The absence of the padding mask endows\n",
    " the padding embedding with information from the semantic\n",
    " embedding.\n",
    "    - 因果掩码确保特定单词嵌入只与其前面的单词嵌入相关，而填充掩码的缺失使得填充嵌入（padding embedding）能够从语义嵌入（semantic embedding）中获取信息\n"
   ]
  },
  {
   "cell_type": "markdown",
   "id": "92518c7e",
   "metadata": {},
   "source": [
    "- 2 \n",
    "    - (1)除了BOS，单个embedding的缺失对生成没有影响.BOS嵌入在语义上是没有意义的，但对于稳定扩散模型中的图像生成来说是必不可少的，因为在训练过程中，模型已经学到了不同文本嵌入中BOS嵌入的一致性\n",
    "    - (2)语义嵌入比填充嵌入更重要。\n",
    "    - (3)可以通过语义嵌入和填充嵌入实现内容和风格的解耦。语义嵌入包含了文本嵌入中的大部分信息，代表图像的内容，而填充嵌入携带的信息较少，可以被视为代表图像的风格。"
   ]
  },
  {
   "cell_type": "markdown",
   "id": "d508daa1",
   "metadata": {},
   "source": [
    "![alt text](../../Image/overall.png)"
   ]
  }
 ],
 "metadata": {
  "language_info": {
   "name": "python"
  }
 },
 "nbformat": 4,
 "nbformat_minor": 5
}
