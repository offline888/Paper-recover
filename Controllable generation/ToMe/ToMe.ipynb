{
 "cells": [
  {
   "cell_type": "markdown",
   "metadata": {},
   "source": [
    "# 《Token Merging for Training-Free Semantic Binding in Text-to-Image Synthesis》—— NeurIPS 2024"
   ]
  },
  {
   "cell_type": "markdown",
   "metadata": {},
   "source": [
    "![alt text](../../Image/ToMe_overall.png)"
   ]
  },
  {
   "cell_type": "markdown",
   "metadata": {},
   "source": [
    "## Token Merge\n"
   ]
  },
  {
   "cell_type": "code",
   "execution_count": null,
   "metadata": {},
   "outputs": [],
   "source": [
    "def token_merge(\n",
    "    prompt_embeds: torch.Tensor, idx_merge: List[List[int]]\n",
    ") -> torch.Tensor:\n",
    "    \"\"\"\n",
    "    prompt_embeds: 77 dim\n",
    "    idx_merge: [ [[1],[2]],[[3],[4]] ]\n",
    "    \"\"\"\n",
    "\n",
    "    for idxs in idx_merge:\n",
    "        noun_idx = idxs[0][0]\n",
    "        alpha = 1.1\n",
    "        prompt_embeds[noun_idx] = alpha * prompt_embeds[idxs[0]].sum(\n",
    "            dim=0\n",
    "        ) + 1.2 * prompt_embeds[idxs[1]].sum(dim=0)\n",
    "        if len(idxs[0]) > 1:\n",
    "            prompt_embeds[idxs[0][1:]] = 0\n",
    "        prompt_embeds[idxs[1]] = 0\n",
    "\n",
    "    return prompt_embeds"
   ]
  }
 ],
 "metadata": {
  "kernelspec": {
   "display_name": "heavy_daily",
   "language": "python",
   "name": "python3"
  },
  "language_info": {
   "codemirror_mode": {
    "name": "ipython",
    "version": 3
   },
   "file_extension": ".py",
   "mimetype": "text/x-python",
   "name": "python",
   "nbconvert_exporter": "python",
   "pygments_lexer": "ipython3",
   "version": "3.10.15"
  }
 },
 "nbformat": 4,
 "nbformat_minor": 2
}
